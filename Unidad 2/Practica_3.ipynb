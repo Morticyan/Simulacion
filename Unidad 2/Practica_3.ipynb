{
  "nbformat": 4,
  "nbformat_minor": 0,
  "metadata": {
    "colab": {
      "provenance": [],
      "authorship_tag": "ABX9TyOA9G2Sku1mB6MbkCnyjot7",
      "include_colab_link": true
    },
    "kernelspec": {
      "name": "python3",
      "display_name": "Python 3"
    },
    "language_info": {
      "name": "python"
    }
  },
  "cells": [
    {
      "cell_type": "markdown",
      "metadata": {
        "id": "view-in-github",
        "colab_type": "text"
      },
      "source": [
        "<a href=\"https://colab.research.google.com/github/Morticyan/Simulacion/blob/Unidad-2/Unidad%202/Practica_3.ipynb\" target=\"_parent\"><img src=\"https://colab.research.google.com/assets/colab-badge.svg\" alt=\"Open In Colab\"/></a>"
      ]
    },
    {
      "cell_type": "markdown",
      "source": [
        "#Simulacion\n",
        "##Unidad 2\n",
        "###Practica 3.Pruebas estadística de uniformidad de Kolmogorov-Smirnov\n",
        "Maestro: Rodriguez Rivas Jose Gabriel\n",
        "Hugo Guillermo Torres Leyva"
      ],
      "metadata": {
        "id": "mLsKr2Pp8tsm"
      }
    },
    {
      "cell_type": "code",
      "execution_count": null,
      "metadata": {
        "colab": {
          "base_uri": "https://localhost:8080/"
        },
        "id": "4VhKVJTCsv6t",
        "outputId": "330546db-3b6f-4301-8f2f-79a94b8f24d1"
      },
      "outputs": [
        {
          "output_type": "stream",
          "name": "stdout",
          "text": [
            "Números aleatorios generados:\n",
            "[0.76181556 0.67018435 0.64663948 0.43835164 0.65553476 0.95193421\n",
            " 0.1466783  0.53134237 0.94582624 0.01636124 0.72384272 0.02497448\n",
            " 0.81244502 0.33604242 0.47910865 0.01889539 0.21165555 0.84252986\n",
            " 0.67692822 0.55087229 0.48480782 0.51520293 0.76259628 0.89689109\n",
            " 0.90993316 0.45567303 0.29081973 0.3832287  0.02797535 0.23178955\n",
            " 0.36862798 0.90465395 0.53374676 0.23237608 0.85388475 0.72983412\n",
            " 0.28874102 0.81743096 0.96277706 0.69902451 0.27570017 0.08010882\n",
            " 0.75444297 0.61633902 0.82717105 0.05846003 0.66962644 0.34563548\n",
            " 0.52729046 0.79022859 0.23297008 0.04052858 0.67486592 0.43395887\n",
            " 0.59588476 0.2005355  0.5675765  0.37320535 0.75538094 0.93622216\n",
            " 0.10404567 0.88012189 0.7615925  0.81506373 0.0037408  0.39909778\n",
            " 0.96765349 0.13994753 0.64712562 0.00958982 0.7729664  0.91810059\n",
            " 0.51342855 0.86737945 0.3214993  0.20073393 0.03294883 0.83890775\n",
            " 0.71115415 0.32348275 0.16491543 0.42094038 0.95159677 0.03123952\n",
            " 0.90387393 0.92265395 0.94807323 0.71329253 0.35092206 0.8210434\n",
            " 0.07345875 0.00999417 0.14926772 0.82902193 0.28195373 0.12332469\n",
            " 0.40108933 0.12360699 0.12548342 0.90399107]\n",
            "Estadístico KS: 0.08663948123109744\n",
            "Valor p: 0.4171801438456165\n",
            "No se puede rechazar la hipótesis nula: Los datos podrían seguir una distribución uniforme.\n"
          ]
        }
      ],
      "source": [
        "import numpy as np\n",
        "from scipy.stats import kstest\n",
        "\n",
        "# Generar 100 números aleatorios entre 0 y 1\n",
        "random_numbers = np.random.rand(100)\n",
        "\n",
        "# Imprimir los números generados\n",
        "print(\"Números aleatorios generados:\")\n",
        "print(random_numbers)\n",
        "\n",
        "# Realizar la prueba de Kolmogorov-Smirnov con distribución uniforme\n",
        "ks_statistic, p_value = kstest(random_numbers, 'uniform')\n",
        "\n",
        "# Imprimir resultados\n",
        "print(f\"Estadístico KS: {ks_statistic}\")\n",
        "print(f\"Valor p: {p_value}\")\n",
        "\n",
        "# Interpretación de resultados\n",
        "alpha = 0.05  # Nivel de significancia del 5%\n",
        "if p_value < alpha:\n",
        "    print(\"Rechazamos la hipótesis nula: Los datos no siguen una distribución uniforme.\")\n",
        "else:\n",
        "    print(\"No se puede rechazar la hipótesis nula: Los datos podrían seguir una distribución uniforme.\")\n"
      ]
    }
  ]
}