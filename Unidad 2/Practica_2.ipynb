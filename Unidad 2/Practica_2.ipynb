{
  "nbformat": 4,
  "nbformat_minor": 0,
  "metadata": {
    "colab": {
      "provenance": [],
      "authorship_tag": "ABX9TyMLugUSMiLP7fV9Kzo6kmSH",
      "include_colab_link": true
    },
    "kernelspec": {
      "name": "python3",
      "display_name": "Python 3"
    },
    "language_info": {
      "name": "python"
    }
  },
  "cells": [
    {
      "cell_type": "markdown",
      "metadata": {
        "id": "view-in-github",
        "colab_type": "text"
      },
      "source": [
        "<a href=\"https://colab.research.google.com/github/Morticyan/Simulacion/blob/Unidad-2/Unidad%202/Practica_2.ipynb\" target=\"_parent\"><img src=\"https://colab.research.google.com/assets/colab-badge.svg\" alt=\"Open In Colab\"/></a>"
      ]
    },
    {
      "cell_type": "markdown",
      "source": [
        "# Simulacion\n",
        "## Unidad 2\n",
        "### Practica 2.Generacion de números aleatorios por el método de congruencial lineal\n",
        "\n",
        "Maestro: Rodriguez Rivas Jose Gabriel"
      ],
      "metadata": {
        "id": "ZkJML9D9j0FV"
      }
    },
    {
      "cell_type": "code",
      "execution_count": null,
      "metadata": {
        "colab": {
          "base_uri": "https://localhost:8080/"
        },
        "id": "iL2scPUniDPH",
        "outputId": "f107f7d0-5ce2-40e7-93ec-9f0f760955cb"
      },
      "outputs": [
        {
          "output_type": "stream",
          "name": "stdout",
          "text": [
            "[94, 209, 854, 689, 894, 609, 54, 289, 694, 9, 254, 889, 494, 409, 454, 489, 294, 809, 654, 89, 94, 209, 854, 689, 894, 609, 54, 289, 694, 9, 254, 889, 494, 409, 454, 489, 294, 809, 654, 89, 94, 209, 854, 689, 894, 609, 54, 289, 694, 9, 254, 889, 494, 409, 454, 489, 294, 809, 654, 89, 94, 209, 854, 689, 894, 609, 54, 289, 694, 9, 254, 889, 494, 409, 454, 489, 294, 809, 654, 89, 94, 209, 854, 689, 894, 609, 54, 289, 694, 9, 254, 889, 494, 409, 454, 489, 294, 809, 654, 89]\n"
          ]
        }
      ],
      "source": [
        "import random\n",
        "\n",
        "def generador(seed, a, c, m, n):\n",
        "    numbers = []\n",
        "    x = seed\n",
        "\n",
        "    for _ in range(n):\n",
        "        x = (a * x + c) % m  # Fórmula del método congruencial lineal\n",
        "        numbers.append(x)  # Agregar el número entero generado\n",
        "\n",
        "    return numbers\n",
        "\n",
        "seed = random.randint(1, 100)  # Semilla aleatoria (evita 0)\n",
        "a = 23   # Multiplicador\n",
        "c = 47   # Incremento\n",
        "m = 1000  # Módulo reducido para limitar los números entre 0 y 999\n",
        "n = 100  # Cantidad de números a generar\n",
        "\n",
        "\n",
        "random_num = generador(seed, a, c, m, n)\n",
        "\n",
        "print(random_num[:100])\n"
      ]
    }
  ]
}