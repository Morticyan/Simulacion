{
  "nbformat": 4,
  "nbformat_minor": 0,
  "metadata": {
    "colab": {
      "provenance": [],
      "authorship_tag": "ABX9TyNNVRjD8bZGEPmvbiHeDRIb",
      "include_colab_link": true
    },
    "kernelspec": {
      "name": "python3",
      "display_name": "Python 3"
    },
    "language_info": {
      "name": "python"
    }
  },
  "cells": [
    {
      "cell_type": "markdown",
      "metadata": {
        "id": "view-in-github",
        "colab_type": "text"
      },
      "source": [
        "<a href=\"https://colab.research.google.com/github/Morticyan/Simulacion/blob/Unidad-2/Numeros_Aletorios.ipynb\" target=\"_parent\"><img src=\"https://colab.research.google.com/assets/colab-badge.svg\" alt=\"Open In Colab\"/></a>"
      ]
    },
    {
      "cell_type": "markdown",
      "source": [
        "# Simulacion\n",
        "## Unidad 2\n",
        "### Practica 1.Generacion de números aleatorios\n",
        "\n",
        "Maestro: Rodriguez Rivas Jose Gabriel\n",
        "Alumno: Hugo Guillermo Torres Leyva"
      ],
      "metadata": {
        "id": "jU-OQeUQeRJv"
      }
    },
    {
      "cell_type": "code",
      "source": [
        "#Semilla inicial\n",
        "\n",
        "semilla=2005\n",
        "iteraciones=100\n",
        "#Semilla inicial\n",
        "\n",
        "semilla=2005\n",
        "iteraciones=100\n",
        "n = 4 #Se asume que n=4, debe ser definido previamente.\n",
        "resultados=[]\n",
        "\n",
        "for _ in range(iteraciones):\n",
        "  #Elevar la semilla al cuadrado\n",
        "  cuadrado=str(semilla **2).zfill(2*n) #Agregar los espacios necesarios\n",
        "\n",
        "  #Extraer los digitos centrales\n",
        "  inicio=(len(cuadrado)-n)//2\n",
        "\n",
        "  semilla=int(cuadrado[inicio:inicio+n])\n",
        "  resultados.append(semilla)\n",
        "\n",
        "#imprimir resultados\n",
        "for i, numero in enumerate(resultados, 1):\n",
        "  print(f\"Numero Aleatorio {i}: {numero}\")"
      ],
      "metadata": {
        "colab": {
          "base_uri": "https://localhost:8080/"
        },
        "id": "8Xrf-hIRenLI",
        "outputId": "c74e3ad3-084d-4732-dd77-4da4542cd61e"
      },
      "execution_count": 4,
      "outputs": [
        {
          "output_type": "stream",
          "name": "stdout",
          "text": [
            "Numero Aleatorio 1: 200\n",
            "Numero Aleatorio 2: 400\n",
            "Numero Aleatorio 3: 1600\n",
            "Numero Aleatorio 4: 5600\n",
            "Numero Aleatorio 5: 3600\n",
            "Numero Aleatorio 6: 9600\n",
            "Numero Aleatorio 7: 1600\n",
            "Numero Aleatorio 8: 5600\n",
            "Numero Aleatorio 9: 3600\n",
            "Numero Aleatorio 10: 9600\n",
            "Numero Aleatorio 11: 1600\n",
            "Numero Aleatorio 12: 5600\n",
            "Numero Aleatorio 13: 3600\n",
            "Numero Aleatorio 14: 9600\n",
            "Numero Aleatorio 15: 1600\n",
            "Numero Aleatorio 16: 5600\n",
            "Numero Aleatorio 17: 3600\n",
            "Numero Aleatorio 18: 9600\n",
            "Numero Aleatorio 19: 1600\n",
            "Numero Aleatorio 20: 5600\n",
            "Numero Aleatorio 21: 3600\n",
            "Numero Aleatorio 22: 9600\n",
            "Numero Aleatorio 23: 1600\n",
            "Numero Aleatorio 24: 5600\n",
            "Numero Aleatorio 25: 3600\n",
            "Numero Aleatorio 26: 9600\n",
            "Numero Aleatorio 27: 1600\n",
            "Numero Aleatorio 28: 5600\n",
            "Numero Aleatorio 29: 3600\n",
            "Numero Aleatorio 30: 9600\n",
            "Numero Aleatorio 31: 1600\n",
            "Numero Aleatorio 32: 5600\n",
            "Numero Aleatorio 33: 3600\n",
            "Numero Aleatorio 34: 9600\n",
            "Numero Aleatorio 35: 1600\n",
            "Numero Aleatorio 36: 5600\n",
            "Numero Aleatorio 37: 3600\n",
            "Numero Aleatorio 38: 9600\n",
            "Numero Aleatorio 39: 1600\n",
            "Numero Aleatorio 40: 5600\n",
            "Numero Aleatorio 41: 3600\n",
            "Numero Aleatorio 42: 9600\n",
            "Numero Aleatorio 43: 1600\n",
            "Numero Aleatorio 44: 5600\n",
            "Numero Aleatorio 45: 3600\n",
            "Numero Aleatorio 46: 9600\n",
            "Numero Aleatorio 47: 1600\n",
            "Numero Aleatorio 48: 5600\n",
            "Numero Aleatorio 49: 3600\n",
            "Numero Aleatorio 50: 9600\n",
            "Numero Aleatorio 51: 1600\n",
            "Numero Aleatorio 52: 5600\n",
            "Numero Aleatorio 53: 3600\n",
            "Numero Aleatorio 54: 9600\n",
            "Numero Aleatorio 55: 1600\n",
            "Numero Aleatorio 56: 5600\n",
            "Numero Aleatorio 57: 3600\n",
            "Numero Aleatorio 58: 9600\n",
            "Numero Aleatorio 59: 1600\n",
            "Numero Aleatorio 60: 5600\n",
            "Numero Aleatorio 61: 3600\n",
            "Numero Aleatorio 62: 9600\n",
            "Numero Aleatorio 63: 1600\n",
            "Numero Aleatorio 64: 5600\n",
            "Numero Aleatorio 65: 3600\n",
            "Numero Aleatorio 66: 9600\n",
            "Numero Aleatorio 67: 1600\n",
            "Numero Aleatorio 68: 5600\n",
            "Numero Aleatorio 69: 3600\n",
            "Numero Aleatorio 70: 9600\n",
            "Numero Aleatorio 71: 1600\n",
            "Numero Aleatorio 72: 5600\n",
            "Numero Aleatorio 73: 3600\n",
            "Numero Aleatorio 74: 9600\n",
            "Numero Aleatorio 75: 1600\n",
            "Numero Aleatorio 76: 5600\n",
            "Numero Aleatorio 77: 3600\n",
            "Numero Aleatorio 78: 9600\n",
            "Numero Aleatorio 79: 1600\n",
            "Numero Aleatorio 80: 5600\n",
            "Numero Aleatorio 81: 3600\n",
            "Numero Aleatorio 82: 9600\n",
            "Numero Aleatorio 83: 1600\n",
            "Numero Aleatorio 84: 5600\n",
            "Numero Aleatorio 85: 3600\n",
            "Numero Aleatorio 86: 9600\n",
            "Numero Aleatorio 87: 1600\n",
            "Numero Aleatorio 88: 5600\n",
            "Numero Aleatorio 89: 3600\n",
            "Numero Aleatorio 90: 9600\n",
            "Numero Aleatorio 91: 1600\n",
            "Numero Aleatorio 92: 5600\n",
            "Numero Aleatorio 93: 3600\n",
            "Numero Aleatorio 94: 9600\n",
            "Numero Aleatorio 95: 1600\n",
            "Numero Aleatorio 96: 5600\n",
            "Numero Aleatorio 97: 3600\n",
            "Numero Aleatorio 98: 9600\n",
            "Numero Aleatorio 99: 1600\n",
            "Numero Aleatorio 100: 5600\n"
          ]
        }
      ]
    }
  ]
}